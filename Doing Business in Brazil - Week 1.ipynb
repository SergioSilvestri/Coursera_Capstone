{
 "cells": [
  {
   "cell_type": "markdown",
   "metadata": {},
   "source": [
    "<h1 align=center><font size = 5>Capstone Project - The Battle of Neighborhoods (Week 1)</font></h1>\n",
    "\n",
    "<h1 align=center><font size = 5>Doing Business in Brazil </font></h1>"
   ]
  },
  {
   "cell_type": "markdown",
   "metadata": {},
   "source": [
    "## Introduction/Business Problem\n",
    "\n",
    "The Business problem is to determine what are Brazilian's behaviors and how to create a rapport to facilitate doing business in Brazil.\n",
    "\n",
    "One important thing when doing business in a country is to understand the local behavior and what is most appreciated. Understanding this, you can create rapport and facilitates your negotiations.\n"
   ]
  },
  {
   "cell_type": "markdown",
   "metadata": {},
   "source": [
    "## Data and how it will be used to solve the problem\n",
    "\n",
    "I will explore the cities that contribute most to the Brazilian GDP as described in a Wikipedia page that has all the information I need. ('https://pt.wikipedia.org/wiki/Lista_de_munic%C3%ADpios_do_Brasil_por_PIB')\n",
    "\n",
    "I will use the Foursquare API to explore the cities and will use the **explore** function to get the most common venue categories in each city. I will use the *k*-means clustering algorithm to complete this task. Finally, I will use the Folium library to visualize the Cities, compare the venues and determine what type of places Brazilians like.\n"
   ]
  },
  {
   "cell_type": "code",
   "execution_count": null,
   "metadata": {},
   "outputs": [],
   "source": []
  }
 ],
 "metadata": {
  "kernelspec": {
   "display_name": "Python 3",
   "language": "python",
   "name": "python3"
  },
  "language_info": {
   "codemirror_mode": {
    "name": "ipython",
    "version": 3
   },
   "file_extension": ".py",
   "mimetype": "text/x-python",
   "name": "python",
   "nbconvert_exporter": "python",
   "pygments_lexer": "ipython3",
   "version": "3.6.6"
  },
  "widgets": {
   "state": {},
   "version": "1.1.2"
  }
 },
 "nbformat": 4,
 "nbformat_minor": 2
}
